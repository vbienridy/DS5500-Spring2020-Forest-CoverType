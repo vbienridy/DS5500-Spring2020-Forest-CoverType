{
 "cells": [
  {
   "cell_type": "code",
   "execution_count": 13,
   "metadata": {},
   "outputs": [],
   "source": [
    "# jupyter notebook for training extremely randomized trees model\n",
    "# Date: 02/10/2020\n",
    "\n",
    "# import libraries\n",
    "import pandas as pd\n",
    "from sklearn import ensemble, metrics\n",
    "import matplotlib.pyplot as plt\n",
    "import numpy as np"
   ]
  },
  {
   "cell_type": "code",
   "execution_count": 14,
   "metadata": {},
   "outputs": [],
   "source": [
    "# load data after data imputation and feature engineering\n",
    "train = pd.read_csv('data/output/train_processed.csv') # train_resampled.csv\n",
    "test = pd.read_csv('data/output/test_processed.csv')\n",
    "test_labeled = pd.read_csv(\"data/test/test.csv\")"
   ]
  },
  {
   "cell_type": "code",
   "execution_count": 15,
   "metadata": {},
   "outputs": [],
   "source": [
    "# data preprocessing for model training\n",
    "feature_cols = [col for col in train.columns if col not in ['Cover_Type','Id']]\n",
    "X_train = train[feature_cols]\n",
    "X_test = test[feature_cols]\n",
    "y = train['Cover_Type']\n",
    "test_ids = test['Id']"
   ]
  },
  {
   "cell_type": "code",
   "execution_count": 16,
   "metadata": {},
   "outputs": [
    {
     "name": "stdout",
     "output_type": "stream",
     "text": [
      "(15120, 68)\n",
      "(565892, 68)\n"
     ]
    },
    {
     "data": {
      "text/html": [
       "<div>\n",
       "<style scoped>\n",
       "    .dataframe tbody tr th:only-of-type {\n",
       "        vertical-align: middle;\n",
       "    }\n",
       "\n",
       "    .dataframe tbody tr th {\n",
       "        vertical-align: top;\n",
       "    }\n",
       "\n",
       "    .dataframe thead th {\n",
       "        text-align: right;\n",
       "    }\n",
       "</style>\n",
       "<table border=\"1\" class=\"dataframe\">\n",
       "  <thead>\n",
       "    <tr style=\"text-align: right;\">\n",
       "      <th></th>\n",
       "      <th>Elevation</th>\n",
       "      <th>Aspect</th>\n",
       "      <th>Slope</th>\n",
       "      <th>HDTH</th>\n",
       "      <th>VDTH</th>\n",
       "      <th>HDTR</th>\n",
       "      <th>H9am</th>\n",
       "      <th>Hnoon</th>\n",
       "      <th>H3pm</th>\n",
       "      <th>HDTFP</th>\n",
       "      <th>...</th>\n",
       "      <th>tan</th>\n",
       "      <th>HF1</th>\n",
       "      <th>HF2</th>\n",
       "      <th>HF3</th>\n",
       "      <th>HR1</th>\n",
       "      <th>HR2</th>\n",
       "      <th>HR3</th>\n",
       "      <th>FR1</th>\n",
       "      <th>FR2</th>\n",
       "      <th>FR3</th>\n",
       "    </tr>\n",
       "  </thead>\n",
       "  <tbody>\n",
       "    <tr>\n",
       "      <th>0</th>\n",
       "      <td>2680</td>\n",
       "      <td>354</td>\n",
       "      <td>14</td>\n",
       "      <td>0</td>\n",
       "      <td>0</td>\n",
       "      <td>2684</td>\n",
       "      <td>196</td>\n",
       "      <td>214</td>\n",
       "      <td>156</td>\n",
       "      <td>6645</td>\n",
       "      <td>...</td>\n",
       "      <td>1.0</td>\n",
       "      <td>6645</td>\n",
       "      <td>6645</td>\n",
       "      <td>1.504891e-16</td>\n",
       "      <td>2684</td>\n",
       "      <td>2684</td>\n",
       "      <td>3.725782e-16</td>\n",
       "      <td>9329</td>\n",
       "      <td>3961</td>\n",
       "      <td>2.475782</td>\n",
       "    </tr>\n",
       "    <tr>\n",
       "      <th>1</th>\n",
       "      <td>2683</td>\n",
       "      <td>0</td>\n",
       "      <td>13</td>\n",
       "      <td>0</td>\n",
       "      <td>0</td>\n",
       "      <td>2654</td>\n",
       "      <td>201</td>\n",
       "      <td>216</td>\n",
       "      <td>152</td>\n",
       "      <td>6675</td>\n",
       "      <td>...</td>\n",
       "      <td>1.0</td>\n",
       "      <td>6675</td>\n",
       "      <td>6675</td>\n",
       "      <td>1.498127e-16</td>\n",
       "      <td>2654</td>\n",
       "      <td>2654</td>\n",
       "      <td>3.767898e-16</td>\n",
       "      <td>9329</td>\n",
       "      <td>4021</td>\n",
       "      <td>2.515072</td>\n",
       "    </tr>\n",
       "    <tr>\n",
       "      <th>2</th>\n",
       "      <td>2713</td>\n",
       "      <td>16</td>\n",
       "      <td>15</td>\n",
       "      <td>0</td>\n",
       "      <td>0</td>\n",
       "      <td>2980</td>\n",
       "      <td>206</td>\n",
       "      <td>208</td>\n",
       "      <td>137</td>\n",
       "      <td>6344</td>\n",
       "      <td>...</td>\n",
       "      <td>1.0</td>\n",
       "      <td>6344</td>\n",
       "      <td>6344</td>\n",
       "      <td>1.576293e-16</td>\n",
       "      <td>2980</td>\n",
       "      <td>2980</td>\n",
       "      <td>3.355705e-16</td>\n",
       "      <td>9324</td>\n",
       "      <td>3364</td>\n",
       "      <td>2.128859</td>\n",
       "    </tr>\n",
       "    <tr>\n",
       "      <th>3</th>\n",
       "      <td>2709</td>\n",
       "      <td>24</td>\n",
       "      <td>17</td>\n",
       "      <td>0</td>\n",
       "      <td>0</td>\n",
       "      <td>2950</td>\n",
       "      <td>208</td>\n",
       "      <td>201</td>\n",
       "      <td>125</td>\n",
       "      <td>6374</td>\n",
       "      <td>...</td>\n",
       "      <td>1.0</td>\n",
       "      <td>6374</td>\n",
       "      <td>6374</td>\n",
       "      <td>1.568874e-16</td>\n",
       "      <td>2950</td>\n",
       "      <td>2950</td>\n",
       "      <td>3.389831e-16</td>\n",
       "      <td>9324</td>\n",
       "      <td>3424</td>\n",
       "      <td>2.160678</td>\n",
       "    </tr>\n",
       "    <tr>\n",
       "      <th>4</th>\n",
       "      <td>2706</td>\n",
       "      <td>29</td>\n",
       "      <td>19</td>\n",
       "      <td>0</td>\n",
       "      <td>0</td>\n",
       "      <td>2920</td>\n",
       "      <td>210</td>\n",
       "      <td>195</td>\n",
       "      <td>115</td>\n",
       "      <td>6404</td>\n",
       "      <td>...</td>\n",
       "      <td>1.0</td>\n",
       "      <td>6404</td>\n",
       "      <td>6404</td>\n",
       "      <td>1.561524e-16</td>\n",
       "      <td>2920</td>\n",
       "      <td>2920</td>\n",
       "      <td>3.424658e-16</td>\n",
       "      <td>9324</td>\n",
       "      <td>3484</td>\n",
       "      <td>2.193151</td>\n",
       "    </tr>\n",
       "  </tbody>\n",
       "</table>\n",
       "<p>5 rows × 68 columns</p>\n",
       "</div>"
      ],
      "text/plain": [
       "   Elevation  Aspect  Slope  HDTH  VDTH  HDTR  H9am  Hnoon  H3pm  HDTFP  ...  \\\n",
       "0       2680     354     14     0     0  2684   196    214   156   6645  ...   \n",
       "1       2683       0     13     0     0  2654   201    216   152   6675  ...   \n",
       "2       2713      16     15     0     0  2980   206    208   137   6344  ...   \n",
       "3       2709      24     17     0     0  2950   208    201   125   6374  ...   \n",
       "4       2706      29     19     0     0  2920   210    195   115   6404  ...   \n",
       "\n",
       "   tan   HF1   HF2           HF3   HR1   HR2           HR3   FR1   FR2  \\\n",
       "0  1.0  6645  6645  1.504891e-16  2684  2684  3.725782e-16  9329  3961   \n",
       "1  1.0  6675  6675  1.498127e-16  2654  2654  3.767898e-16  9329  4021   \n",
       "2  1.0  6344  6344  1.576293e-16  2980  2980  3.355705e-16  9324  3364   \n",
       "3  1.0  6374  6374  1.568874e-16  2950  2950  3.389831e-16  9324  3424   \n",
       "4  1.0  6404  6404  1.561524e-16  2920  2920  3.424658e-16  9324  3484   \n",
       "\n",
       "        FR3  \n",
       "0  2.475782  \n",
       "1  2.515072  \n",
       "2  2.128859  \n",
       "3  2.160678  \n",
       "4  2.193151  \n",
       "\n",
       "[5 rows x 68 columns]"
      ]
     },
     "execution_count": 16,
     "metadata": {},
     "output_type": "execute_result"
    }
   ],
   "source": [
    "print(X_train.shape)\n",
    "print(X_test.shape)\n",
    "X_train.columns\n",
    "X_test.columns\n",
    "X_train.head()\n",
    "X_test.head()"
   ]
  },
  {
   "cell_type": "code",
   "execution_count": 17,
   "metadata": {},
   "outputs": [],
   "source": [
    "# train extremely randomized trees model\n",
    "forest = ensemble.ExtraTreesClassifier(n_estimators=1000, criterion='gini', \n",
    "                                       max_depth=None, min_samples_split=2, \n",
    "                                       min_samples_leaf=1, max_features='auto', \n",
    "                                       bootstrap=False, oob_score=False, \n",
    "                                       n_jobs=-1, random_state=None, verbose=0)"
   ]
  },
  {
   "cell_type": "code",
   "execution_count": 18,
   "metadata": {},
   "outputs": [],
   "source": [
    "# train model and predict on test set\n",
    "forest.fit(X_train, y)\n",
    "y_pred = pd.Series(forest.predict(X_test), name=\"Cover_Type\")"
   ]
  },
  {
   "cell_type": "code",
   "execution_count": 19,
   "metadata": {},
   "outputs": [
    {
     "name": "stdout",
     "output_type": "stream",
     "text": [
      "209955\n",
      "242194\n",
      "36523\n",
      "1963\n",
      "24864\n",
      "22905\n",
      "27488\n"
     ]
    }
   ],
   "source": [
    "print(sum(y_pred == 1))\n",
    "print(sum(y_pred == 2))\n",
    "print(sum(y_pred == 3))\n",
    "print(sum(y_pred == 4))\n",
    "print(sum(y_pred == 5))\n",
    "print(sum(y_pred == 6))\n",
    "print(sum(y_pred == 7))"
   ]
  },
  {
   "cell_type": "code",
   "execution_count": 88,
   "metadata": {},
   "outputs": [
    {
     "name": "stdout",
     "output_type": "stream",
     "text": [
      "                  importance\n",
      "EHDtH               0.089182\n",
      "EVDtH               0.082058\n",
      "Elevation           0.077097\n",
      "FR1                 0.032729\n",
      "HDTR                0.030953\n",
      "HR1                 0.030839\n",
      "HR2                 0.030255\n",
      "HF1                 0.028760\n",
      "FR2                 0.028520\n",
      "HDTFP               0.028475\n",
      "HF2                 0.027937\n",
      "FR3                 0.027639\n",
      "Aspect              0.027384\n",
      "Hnoon               0.026542\n",
      "Wilderness_Area4    0.025681\n",
      "HR3                 0.024910\n",
      "H3pm                0.024649\n",
      "H9am                0.024604\n",
      "DTH                 0.024394\n",
      "HDTH                0.024045\n",
      "tan                 0.023465\n",
      "Slope               0.023368\n",
      "VDTH                0.023326\n",
      "HF3                 0.023255\n",
      "Soil_Type22         0.014355\n",
      "Wilderness_Area1    0.013611\n",
      "Wilderness_Area3    0.012044\n",
      "Soil_Type23         0.011668\n",
      "Soil_Type10         0.011623\n",
      "Soil_Type38         0.011616\n",
      "Soil_Type4          0.011502\n",
      "Soil_Type12         0.010306\n",
      "Soil_Type39         0.008643\n",
      "Soil_Type29         0.007250\n",
      "Soil_Type2          0.006967\n",
      "Soil_Type32         0.006926\n",
      "Soil_Type40         0.006700\n",
      "Highwater           0.006647\n",
      "Soil_Type33         0.005382\n",
      "Soil_Type24         0.005150\n",
      "Soil_Type30         0.004995\n",
      "Wilderness_Area2    0.004792\n",
      "Soil_Type31         0.004013\n",
      "Soil_Type13         0.003984\n",
      "Soil_Type17         0.003658\n",
      "Soil_Type11         0.003322\n",
      "Soil_Type20         0.002288\n",
      "Soil_Type3          0.002036\n",
      "Soil_Type6          0.001980\n",
      "Soil_Type35         0.001538\n",
      "Soil_Type16         0.001072\n",
      "Soil_Type21         0.000771\n",
      "Soil_Type19         0.000677\n",
      "Soil_Type1          0.000615\n",
      "Soil_Type37         0.000611\n",
      "Soil_Type26         0.000606\n",
      "Soil_Type27         0.000530\n",
      "Soil_Type36         0.000462\n",
      "Soil_Type34         0.000422\n",
      "Soil_Type5          0.000331\n",
      "Soil_Type18         0.000311\n",
      "Soil_Type14         0.000195\n",
      "Soil_Type9          0.000149\n",
      "Soil_Type28         0.000130\n",
      "Soil_Type25         0.000051\n",
      "Soil_Type8          0.000006\n",
      "Soil_Type15         0.000000\n",
      "Soil_Type7          0.000000\n"
     ]
    }
   ],
   "source": [
    "# print variable importance from extremely randomized trees model\n",
    "feature_imp = pd.DataFrame(forest.feature_importances_, index=X_train.columns, columns=[\"importance\"])\n",
    "with pd.option_context('display.max_rows', None, 'display.max_columns', None):\n",
    "    print(feature_imp.sort_values(by=[\"importance\"], ascending=False))"
   ]
  },
  {
   "cell_type": "code",
   "execution_count": 89,
   "metadata": {},
   "outputs": [
    {
     "data": {
      "text/plain": [
       "0.8311992394308455"
      ]
     },
     "execution_count": 89,
     "metadata": {},
     "output_type": "execute_result"
    }
   ],
   "source": [
    "# compute total accuracy on test set\n",
    "metrics.accuracy_score(test_labeled[\"Cover_Type\"], y_pred)"
   ]
  },
  {
   "cell_type": "code",
   "execution_count": 6,
   "metadata": {},
   "outputs": [],
   "source": [
    "# compute accuracy for each class label on test set\n",
    "def get_accuracy_for_label(y_pred, test_labeled):\n",
    "    for label in range(1, 8):\n",
    "        acc = sum((y_pred == label) & (y_pred == test_labeled[\"Cover_Type\"]))\n",
    "        total = sum(test_labeled[\"Cover_Type\"] == label)\n",
    "        print(\"The accuracy for class label = %d is %.4f\" % (label, acc/total))"
   ]
  },
  {
   "cell_type": "code",
   "execution_count": null,
   "metadata": {},
   "outputs": [],
   "source": [
    "get_accuracy_for_label(y_pred, test_labeled)"
   ]
  },
  {
   "cell_type": "code",
   "execution_count": 92,
   "metadata": {},
   "outputs": [],
   "source": [
    "# save predicted labels and corresponding ids to local csv file for submission\n",
    "submission = pd.DataFrame(data={\"Id\": test_ids, \"Cover_Type\": y_pred})\n",
    "submission.to_csv(\"data/output/extratree1000sample.csv\", index=False)"
   ]
  },
  {
   "cell_type": "code",
   "execution_count": null,
   "metadata": {},
   "outputs": [],
   "source": [
    "# train strata train set and make predictions \n",
    "results = []\n",
    "for i in [\"3\", \"4\", \"7\", \"8\", \"9\", \"11\", \"12\", \"13\", \"14\", \"15\", \"17\", \"18\", \"19\", \"23\", \"25\", \"26\", \"27\", \"out\"]:\n",
    "    train = pd.read_csv(\"data/output/strata/train\" + i + \".csv\")\n",
    "    test = pd.read_csv(\"data/output/strata/test\" + i + \".csv\")\n",
    "    feature_cols = [col for col in train.columns if col not in ['Cover_Type','Id']]\n",
    "    X_train = train[feature_cols]\n",
    "    X_test = test[feature_cols]\n",
    "    y = train['Cover_Type']\n",
    "    test_ids = test['Id']\n",
    "    forest.fit(X_train, y)\n",
    "    y_pred = pd.Series(forest.predict(X_test), name=\"Cover_Type\")\n",
    "    result = pd.DataFrame(data={\"Id\": test_ids, \"Cover_Type\": y_pred})\n",
    "    results.append(result)"
   ]
  },
  {
   "cell_type": "code",
   "execution_count": 20,
   "metadata": {},
   "outputs": [
    {
     "data": {
      "text/html": [
       "<div>\n",
       "<style scoped>\n",
       "    .dataframe tbody tr th:only-of-type {\n",
       "        vertical-align: middle;\n",
       "    }\n",
       "\n",
       "    .dataframe tbody tr th {\n",
       "        vertical-align: top;\n",
       "    }\n",
       "\n",
       "    .dataframe thead th {\n",
       "        text-align: right;\n",
       "    }\n",
       "</style>\n",
       "<table border=\"1\" class=\"dataframe\">\n",
       "  <thead>\n",
       "    <tr style=\"text-align: right;\">\n",
       "      <th></th>\n",
       "      <th>Id</th>\n",
       "      <th>Cover_Type</th>\n",
       "    </tr>\n",
       "  </thead>\n",
       "  <tbody>\n",
       "    <tr>\n",
       "      <th>0</th>\n",
       "      <td>15121</td>\n",
       "      <td>5</td>\n",
       "    </tr>\n",
       "    <tr>\n",
       "      <th>1</th>\n",
       "      <td>15122</td>\n",
       "      <td>1</td>\n",
       "    </tr>\n",
       "    <tr>\n",
       "      <th>2</th>\n",
       "      <td>15123</td>\n",
       "      <td>1</td>\n",
       "    </tr>\n",
       "    <tr>\n",
       "      <th>3</th>\n",
       "      <td>15124</td>\n",
       "      <td>1</td>\n",
       "    </tr>\n",
       "    <tr>\n",
       "      <th>4</th>\n",
       "      <td>15125</td>\n",
       "      <td>1</td>\n",
       "    </tr>\n",
       "    <tr>\n",
       "      <th>...</th>\n",
       "      <td>...</td>\n",
       "      <td>...</td>\n",
       "    </tr>\n",
       "    <tr>\n",
       "      <th>565887</th>\n",
       "      <td>581008</td>\n",
       "      <td>3</td>\n",
       "    </tr>\n",
       "    <tr>\n",
       "      <th>565888</th>\n",
       "      <td>581009</td>\n",
       "      <td>3</td>\n",
       "    </tr>\n",
       "    <tr>\n",
       "      <th>565889</th>\n",
       "      <td>581010</td>\n",
       "      <td>3</td>\n",
       "    </tr>\n",
       "    <tr>\n",
       "      <th>565890</th>\n",
       "      <td>581011</td>\n",
       "      <td>3</td>\n",
       "    </tr>\n",
       "    <tr>\n",
       "      <th>565891</th>\n",
       "      <td>581012</td>\n",
       "      <td>3</td>\n",
       "    </tr>\n",
       "  </tbody>\n",
       "</table>\n",
       "<p>565892 rows × 2 columns</p>\n",
       "</div>"
      ],
      "text/plain": [
       "            Id  Cover_Type\n",
       "0        15121           5\n",
       "1        15122           1\n",
       "2        15123           1\n",
       "3        15124           1\n",
       "4        15125           1\n",
       "...        ...         ...\n",
       "565887  581008           3\n",
       "565888  581009           3\n",
       "565889  581010           3\n",
       "565890  581011           3\n",
       "565891  581012           3\n",
       "\n",
       "[565892 rows x 2 columns]"
      ]
     },
     "execution_count": 20,
     "metadata": {},
     "output_type": "execute_result"
    }
   ],
   "source": [
    "# submission.to_csv(\"data/output/strata/pred\" + i + \"extratree.csv\", index=False)\n",
    "extratree1000strata = pd.concat(results).sort_values(by=[\"Id\"])\n",
    "extratree1000strata.reset_index(drop=True)"
   ]
  },
  {
   "cell_type": "code",
   "execution_count": 25,
   "metadata": {},
   "outputs": [],
   "source": [
    "extratree1000strata.to_csv(\"data/output/extratree1000strata.csv\", index=False)"
   ]
  },
  {
   "cell_type": "code",
   "execution_count": 8,
   "metadata": {},
   "outputs": [],
   "source": [
    "extratree1000strata = pd.read_csv(\"data/output/extratree1000strata.csv\")"
   ]
  },
  {
   "cell_type": "code",
   "execution_count": 9,
   "metadata": {},
   "outputs": [
    {
     "name": "stdout",
     "output_type": "stream",
     "text": [
      "0.8025382935259732\n",
      "The accuracy for class label = 1 is 0.8296\n",
      "The accuracy for class label = 2 is 0.7496\n",
      "The accuracy for class label = 3 is 0.8855\n",
      "The accuracy for class label = 4 is 0.9710\n",
      "The accuracy for class label = 5 is 0.9718\n",
      "The accuracy for class label = 6 is 0.9248\n",
      "The accuracy for class label = 7 is 0.9784\n"
     ]
    }
   ],
   "source": [
    "print(metrics.accuracy_score(test_labeled[\"Cover_Type\"], extratree1000strata[\"Cover_Type\"]))\n",
    "get_accuracy_for_label(extratree1000strata[\"Cover_Type\"], test_labeled)"
   ]
  },
  {
   "cell_type": "code",
   "execution_count": 11,
   "metadata": {},
   "outputs": [
    {
     "data": {
      "text/plain": [
       "array([[173943,  25395,    174,      0,   2203,    247,   7718],\n",
       "       [ 42886, 210747,   6178,     70,  14223,   5925,   1112],\n",
       "       [     0,    106,  29747,   1090,    138,   2513,      0],\n",
       "       [     0,      0,     11,    570,      0,      6,      0],\n",
       "       [    11,    116,     59,      0,   7126,     21,      0],\n",
       "       [    10,     45,    774,    270,     45,  14063,      0],\n",
       "       [   350,     40,      0,      0,      6,      0,  17954]],\n",
       "      dtype=int64)"
      ]
     },
     "execution_count": 11,
     "metadata": {},
     "output_type": "execute_result"
    }
   ],
   "source": [
    "# compute confusion matrix for third classifier\n",
    "metrics.confusion_matrix(test_labeled[\"Cover_Type\"], extratree1000strata[\"Cover_Type\"])"
   ]
  },
  {
   "cell_type": "code",
   "execution_count": 12,
   "metadata": {},
   "outputs": [
    {
     "data": {
      "text/plain": [
       "0         5\n",
       "1         1\n",
       "2         1\n",
       "3         1\n",
       "4         1\n",
       "         ..\n",
       "565887    3\n",
       "565888    3\n",
       "565889    3\n",
       "565890    3\n",
       "565891    3\n",
       "Name: Cover_Type, Length: 565892, dtype: int64"
      ]
     },
     "execution_count": 12,
     "metadata": {},
     "output_type": "execute_result"
    }
   ],
   "source": [
    "extratree1000strata[\"Cover_Type\"]"
   ]
  },
  {
   "cell_type": "code",
   "execution_count": 7,
   "metadata": {},
   "outputs": [
    {
     "name": "stdout",
     "output_type": "stream",
     "text": [
      "0.838262424632262\n",
      "The accuracy for class label = 1 is 0.7951\n",
      "The accuracy for class label = 2 is 0.8639\n",
      "The accuracy for class label = 3 is 0.8563\n",
      "The accuracy for class label = 4 is 0.9693\n",
      "The accuracy for class label = 5 is 0.6919\n",
      "The accuracy for class label = 6 is 0.8217\n",
      "The accuracy for class label = 7 is 0.9728\n"
     ]
    }
   ],
   "source": [
    "final_prediction = pd.read_csv(\"data/output/final_prediction.csv\")\n",
    "print(metrics.accuracy_score(test_labeled[\"Cover_Type\"], final_prediction[\"Cover_Type\"]))\n",
    "get_accuracy_for_label(final_prediction[\"Cover_Type\"], test_labeled)"
   ]
  }
 ],
 "metadata": {
  "kernelspec": {
   "display_name": "Python 3",
   "language": "python",
   "name": "python3"
  },
  "language_info": {
   "codemirror_mode": {
    "name": "ipython",
    "version": 3
   },
   "file_extension": ".py",
   "mimetype": "text/x-python",
   "name": "python",
   "nbconvert_exporter": "python",
   "pygments_lexer": "ipython3",
   "version": "3.6.7"
  }
 },
 "nbformat": 4,
 "nbformat_minor": 2
}
