{
 "cells": [
  {
   "cell_type": "code",
   "execution_count": null,
   "metadata": {
    "collapsed": true
   },
   "outputs": [],
   "source": [
    "# jupyter notebook for training extremely randomized trees model\n",
    "# Date: 02/10/2020\n",
    "\n",
    "# import libraries\n",
    "import pandas as pd\n",
    "from sklearn import ensemble\n",
    "import matplotlib.pyplot as plt\n",
    "import numpy as np"
   ]
  },
  {
   "cell_type": "code",
   "execution_count": null,
   "metadata": {
    "collapsed": true
   },
   "outputs": [],
   "source": [
    "# load data after data imputation and feature engineering\n",
    "train = pd.read_csv('D:/NEU/DS 5500/code/data/output/train.csv')\n",
    "test = pd.read_csv('D:/NEU/DS 5500/code/data/output/test.csv')"
   ]
  },
  {
   "cell_type": "code",
   "execution_count": null,
   "metadata": {
    "collapsed": true
   },
   "outputs": [],
   "source": [
    "# data preprocessing for model training\n",
    "feature_cols = [col for col in train.columns if col not in ['Cover_Type','Id']]\n",
    "X_train = train[feature_cols]\n",
    "X_test = test[feature_cols]\n",
    "y = train['Cover_Type']\n",
    "test_ids = test['Id']"
   ]
  },
  {
   "cell_type": "code",
   "execution_count": null,
   "metadata": {
    "collapsed": true
   },
   "outputs": [],
   "source": [
    "# train extremely randomized trees model\n",
    "forest = ensemble.ExtraTreesClassifier(n_estimators=1000, criterion='gini', \n",
    "                                       max_depth=None, min_samples_split=2, \n",
    "                                       min_samples_leaf=1, max_features='auto', \n",
    "                                       bootstrap=False, oob_score=False, \n",
    "                                       n_jobs=-1, random_state=None, verbose=0)\n",
    "forest.fit(X_train, y)"
   ]
  },
  {
   "cell_type": "code",
   "execution_count": null,
   "metadata": {
    "collapsed": true
   },
   "outputs": [],
   "source": [
    "# save predicted labels and corresponding ids to local csv file for submission\n",
    "with open('D:/NEU/DS 5500/code/data/output/extratree1000.csv', \"wb\") as f:\n",
    "    f.write(\"Id,Cover_Type\\n\")\n",
    "    for index, label in enumerate(list(forest.predict(X_test))):\n",
    "        f.write(\"%s,%s\\n\" % (test_ids[index], label))"
   ]
  },
  {
   "cell_type": "code",
   "execution_count": null,
   "metadata": {
    "collapsed": true
   },
   "outputs": [],
   "source": [
    "# print variable importance from extremely randomized trees model\n",
    "pd.DataFrame(forest.feature_importances_, index=X_train.columns)"
   ]
  }
 ],
 "metadata": {
  "kernelspec": {
   "display_name": "Python 3",
   "language": "python",
   "name": "python3"
  },
  "language_info": {
   "codemirror_mode": {
    "name": "ipython",
    "version": 3
   },
   "file_extension": ".py",
   "mimetype": "text/x-python",
   "name": "python",
   "nbconvert_exporter": "python",
   "pygments_lexer": "ipython3",
   "version": "3.6.3"
  }
 },
 "nbformat": 4,
 "nbformat_minor": 2
}
