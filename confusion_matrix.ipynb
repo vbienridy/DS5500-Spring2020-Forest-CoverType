{
 "cells": [
  {
   "cell_type": "code",
   "execution_count": 4,
   "metadata": {
    "collapsed": true
   },
   "outputs": [],
   "source": [
    "# jupyter notebook for creating confusion matrix plot\n",
    "# Date: 02/10/2020\n",
    "\n",
    "# import libraries\n",
    "import pandas as pd\n",
    "from sklearn import ensemble\n",
    "import matplotlib.pyplot as plt\n",
    "import numpy as np\n",
    "import itertools\n",
    "from sklearn import metrics"
   ]
  },
  {
   "cell_type": "code",
   "execution_count": null,
   "metadata": {
    "collapsed": true
   },
   "outputs": [],
   "source": [
    "# function for ploting confusion matrix\n",
    "def plot_confusion_matrix(confusion_matrix, \n",
    "                          class_names,\n",
    "                          normalize=False,\n",
    "                          title='confusion matrix',\n",
    "                          color_map=plt.cm.Blues):\n",
    "    \"\"\"\n",
    "    This function prints and plots the confusion matrix.\n",
    "    Normalization can be applied by setting `normalize=True`.\n",
    "    \"\"\"\n",
    "    plt.imshow(confusion_matrix, interpolation='nearest', cmap=color_map)\n",
    "    plt.title(title)\n",
    "    plt.colorbar()\n",
    "    tick_marks = np.arange(len(class_names))\n",
    "    plt.xticks(tick_marks, class_names)\n",
    "    plt.yticks(tick_marks, class_names)\n",
    "\n",
    "    if normalize:\n",
    "        confusion_matrix = confusion_matrix.astype('float') / confusion_matrix.sum(axis=1)[:, np.newaxis]\n",
    "        print(\"Normalized confusion matrix\")\n",
    "    else:\n",
    "        print('Confusion matrix, without normalization')\n",
    "\n",
    "    print(confusion_matrix)\n",
    "\n",
    "    thresh = confusion_matrix.max() / 2.\n",
    "    for i, j in itertools.product(range(confusion_matrix.shape[0]), range(confusion_matrix.shape[1])):\n",
    "        plt.text(j, i, confusion_matrix[i, j],\n",
    "                 horizontalalignment=\"center\",fontsize=8,\n",
    "                 color=\"black\" if confusion_matrix[i, j] > thresh else \"white\")\n",
    "\n",
    "    plt.tight_layout()\n",
    "    plt.ylabel('True label')\n",
    "    plt.xlabel('Predicted label')"
   ]
  },
  {
   "cell_type": "code",
   "execution_count": 2,
   "metadata": {
    "collapsed": true
   },
   "outputs": [],
   "source": [
    "# load true labels and predicted labels\n",
    "test = pd.read_csv('data/test/test.csv') # true labels\n",
    "test_label = test['Cover_Type']\n",
    "tree = pd.read_csv('data/output/finalSubmission.csv') # predicted labels\n",
    "predict_label = tree['Cover_Type']\n",
    "\n",
    "final_confusion_matrix = metrics.confusion_matrix(test_label, predict_label) # use sklearn package\n",
    "class_names = ['1','2','3','4','5','6','7']"
   ]
  },
  {
   "cell_type": "code",
   "execution_count": null,
   "metadata": {
    "collapsed": true
   },
   "outputs": [],
   "source": [
    "metrics.ConfusionMatrixDisplay(final_confusion_matrix, class_names).plot()"
   ]
  },
  {
   "cell_type": "code",
   "execution_count": null,
   "metadata": {
    "collapsed": true
   },
   "outputs": [],
   "source": [
    "# draw confusion matrix\n",
    "plt.figure()\n",
    "plot_confusion_matrix(final_confusion_matrix, class_names=class_names,\n",
    "                      title='Confusion matrix')"
   ]
  }
 ],
 "metadata": {
  "kernelspec": {
   "display_name": "Python 3",
   "language": "python",
   "name": "python3"
  },
  "language_info": {
   "codemirror_mode": {
    "name": "ipython",
    "version": 3
   },
   "file_extension": ".py",
   "mimetype": "text/x-python",
   "name": "python",
   "nbconvert_exporter": "python",
   "pygments_lexer": "ipython3",
   "version": "3.6.7"
  }
 },
 "nbformat": 4,
 "nbformat_minor": 2
}
